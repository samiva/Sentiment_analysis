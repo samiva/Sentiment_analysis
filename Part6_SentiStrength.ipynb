{
  "nbformat": 4,
  "nbformat_minor": 0,
  "metadata": {
    "colab": {
      "name": "Untitled6.ipynb",
      "provenance": [],
      "collapsed_sections": []
    },
    "kernelspec": {
      "name": "python3",
      "display_name": "Python 3"
    }
  },
  "cells": [
    {
      "cell_type": "code",
      "metadata": {
        "id": "ZLcSLT0tqZzo",
        "colab_type": "code",
        "colab": {}
      },
      "source": [
        "import pandas as pd\n",
        "import matplotlib.pyplot as plt\n",
        "import seaborn as sns\n",
        "\n",
        "#Data Preprocessing and Feature Engineering\n",
        "from textblob import TextBlob\n",
        "import re\n",
        "from nltk.corpus import stopwords\n",
        "from nltk.stem.wordnet import WordNetLemmatizer\n",
        "from sklearn.feature_extraction.text import CountVectorizer, TfidfTransformer\n",
        "\n",
        "#Model Selection and Validation\n",
        "from sklearn.naive_bayes import MultinomialNB\n",
        "from sklearn.model_selection import train_test_split\n",
        "from sklearn.pipeline import Pipeline\n",
        "from sklearn.metrics import confusion_matrix, classification_report,accuracy_score"
      ],
      "execution_count": 0,
      "outputs": []
    },
    {
      "cell_type": "code",
      "metadata": {
        "id": "dX09tYsfqdVs",
        "colab_type": "code",
        "colab": {}
      },
      "source": [
        "pos_tweets = [('Top players have done a furious trace the beginning of the period. Behind is the skills and training in addition to a great joukkueh', 'positive'),\n",
        "              ('Magical', 'positive'),\n",
        "              ('Happy', 'positive'),\n",
        "              ('The evening audience of 7452. Thank you, tack', 'positive'),\n",
        "              ('The third installment in progress!', 'positive'),\n",
        "              ('The second installment in progress!', 'positive'),\n",
        "              ('the first batch in progress!', 'positive'),\n",
        "              ('Welcome', 'positive'),\n",
        "              ('friend', 'positive'),\n",
        "              ('Ilves five-match winning streak got today a continuation of Vaasa', 'positive'),\n",
        "              ('successful', 'positive'),\n",
        "              ('Ilves moves two-goal lead', 'positive'),\n",
        "              ('We are lucky. We are the Kings!', 'positive'),\n",
        "              ('Congratulations on your milestone, Kalle!', 'positive'),\n",
        "              ('Advance on the evening', 'positive'),\n",
        "              ('Game day', 'positive'),\n",
        "              ('Head coach Pekka Virta says from today to give an advantage over human players courtesy', 'positive'),\n",
        "              ('A great increase in the levels of only five seconds before the end of the game.', 'positive'),\n",
        "              ('Have a good MondayThis week, played only once. Friday night frenzy against the Blades', 'positive')\n",
        "              ]\n",
        "neg_tweets = [('SCUBA Shop shelves is wrong by christmas gift ideas', 'negative'),\n",
        "              ('HIFKs striker Teemu Turunen is on the side of the games due to injury for about three weeks.', 'negative')\n",
        "              ]\n"
      ],
      "execution_count": 0,
      "outputs": []
    },
    {
      "cell_type": "code",
      "metadata": {
        "id": "dLD_L0IAuHnu",
        "colab_type": "code",
        "colab": {}
      },
      "source": [
        "tweets = []\n",
        "for (words, sentiment) in pos_tweets + neg_tweets:\n",
        "    words_filtered = [e.lower() for e in words.split() if len(e) >= 1]\n",
        "    tweets.append((words_filtered, sentiment))\n"
      ],
      "execution_count": 0,
      "outputs": []
    },
    {
      "cell_type": "code",
      "metadata": {
        "id": "cGhkRWyVuZrk",
        "colab_type": "code",
        "colab": {}
      },
      "source": [
        "test_pos= tweets.copy()"
      ],
      "execution_count": 0,
      "outputs": []
    },
    {
      "cell_type": "code",
      "metadata": {
        "id": "ccPedxjwvPGr",
        "colab_type": "code",
        "outputId": "e486ae8a-1e65-4b9d-a874-81812ada15b8",
        "colab": {
          "base_uri": "https://localhost:8080/",
          "height": 131
        }
      },
      "source": [
        "import nltk\n",
        "nltk.download('punkt')\n",
        "nltk.download('stopwords')\n",
        "nltk.download('wordnet')"
      ],
      "execution_count": 0,
      "outputs": [
        {
          "output_type": "stream",
          "text": [
            "[nltk_data] Downloading package punkt to /root/nltk_data...\n",
            "[nltk_data]   Package punkt is already up-to-date!\n",
            "[nltk_data] Downloading package stopwords to /root/nltk_data...\n",
            "[nltk_data]   Package stopwords is already up-to-date!\n",
            "[nltk_data] Downloading package wordnet to /root/nltk_data...\n",
            "[nltk_data]   Package wordnet is already up-to-date!\n"
          ],
          "name": "stdout"
        },
        {
          "output_type": "execute_result",
          "data": {
            "text/plain": [
              "True"
            ]
          },
          "metadata": {
            "tags": []
          },
          "execution_count": 47
        }
      ]
    },
    {
      "cell_type": "code",
      "metadata": {
        "id": "4WfZ-TDGu5f4",
        "colab_type": "code",
        "colab": {}
      },
      "source": [
        "\n",
        "def get_words_in_tweets(tweets):\n",
        "    all_words = []\n",
        "    for (words, sentiment) in tweets:\n",
        "      all_words.extend(words)\n",
        "    return all_words\n",
        "def get_word_features(wordlist):\n",
        "    wordlist = nltk.FreqDist(wordlist)\n",
        "    word_features = wordlist.keys()\n",
        "    return word_features\n"
      ],
      "execution_count": 0,
      "outputs": []
    },
    {
      "cell_type": "code",
      "metadata": {
        "id": "2YwoniHAvEcX",
        "colab_type": "code",
        "colab": {}
      },
      "source": [
        "word_features = get_word_features(get_words_in_tweets(tweets))"
      ],
      "execution_count": 0,
      "outputs": []
    },
    {
      "cell_type": "code",
      "metadata": {
        "id": "KihNjAU6vlZI",
        "colab_type": "code",
        "colab": {}
      },
      "source": [
        "def extract_features(document):\n",
        "    document_words = set(document)\n",
        "    features = {}\n",
        "    for word in word_features:\n",
        "        features['contains(%s)' % word] = (word in document_words)\n",
        "    return features\n"
      ],
      "execution_count": 0,
      "outputs": []
    },
    {
      "cell_type": "code",
      "metadata": {
        "id": "UYUAOPGyvpdV",
        "colab_type": "code",
        "colab": {}
      },
      "source": [
        "training_set = nltk.classify.apply_features(extract_features, tweets)"
      ],
      "execution_count": 0,
      "outputs": []
    },
    {
      "cell_type": "code",
      "metadata": {
        "id": "XbmpZdj4wAl1",
        "colab_type": "code",
        "colab": {}
      },
      "source": [
        "classifier = nltk.NaiveBayesClassifier.train(training_set)\n"
      ],
      "execution_count": 0,
      "outputs": []
    },
    {
      "cell_type": "code",
      "metadata": {
        "id": "1FtfvEa5wKzf",
        "colab_type": "code",
        "outputId": "46c01be1-c7dc-4e8a-d78b-06e88cbd4d03",
        "colab": {
          "base_uri": "https://localhost:8080/",
          "height": 1000
        }
      },
      "source": [
        "print(classifier.show_most_informative_features(200))"
      ],
      "execution_count": 0,
      "outputs": [
        {
          "output_type": "stream",
          "text": [
            "Most Informative Features\n",
            "            contains(is) = True           negati : positi =     11.1 : 1.0\n",
            "            contains(on) = True           negati : positi =      4.0 : 1.0\n",
            "            contains(to) = True           negati : positi =      4.0 : 1.0\n",
            "            contains(of) = True           negati : positi =      2.2 : 1.0\n",
            "       contains(striker) = False          positi : negati =      1.9 : 1.0\n",
            "         contains(hifks) = False          positi : negati =      1.9 : 1.0\n",
            "         contains(games) = False          positi : negati =      1.9 : 1.0\n",
            "           contains(for) = False          positi : negati =      1.9 : 1.0\n",
            "            contains(by) = False          positi : negati =      1.9 : 1.0\n",
            "         contains(scuba) = False          positi : negati =      1.9 : 1.0\n",
            "       contains(shelves) = False          positi : negati =      1.9 : 1.0\n",
            "        contains(weeks.) = False          positi : negati =      1.9 : 1.0\n",
            "         contains(teemu) = False          positi : negati =      1.9 : 1.0\n",
            "         contains(ideas) = False          positi : negati =      1.9 : 1.0\n",
            "     contains(christmas) = False          positi : negati =      1.9 : 1.0\n",
            "          contains(side) = False          positi : negati =      1.9 : 1.0\n",
            "        contains(injury) = False          positi : negati =      1.9 : 1.0\n",
            "          contains(shop) = False          positi : negati =      1.9 : 1.0\n",
            "          contains(gift) = False          positi : negati =      1.9 : 1.0\n",
            "         contains(wrong) = False          positi : negati =      1.9 : 1.0\n",
            "       contains(turunen) = False          positi : negati =      1.9 : 1.0\n",
            "         contains(about) = False          positi : negati =      1.9 : 1.0\n",
            "           contains(due) = False          positi : negati =      1.9 : 1.0\n",
            "         contains(three) = False          positi : negati =      1.9 : 1.0\n",
            "            contains(to) = False          positi : negati =      1.8 : 1.0\n",
            "            contains(on) = False          positi : negati =      1.8 : 1.0\n",
            "            contains(of) = False          positi : negati =      1.6 : 1.0\n",
            "            contains(in) = False          negati : positi =      1.1 : 1.0\n",
            "       contains(against) = False          positi : negati =      1.1 : 1.0\n",
            "          contains(says) = False          positi : negati =      1.1 : 1.0\n",
            "          contains(lead) = False          positi : negati =      1.1 : 1.0\n",
            "          contains(five) = False          positi : negati =      1.1 : 1.0\n",
            "        contains(second) = False          positi : negati =      1.1 : 1.0\n",
            "        contains(streak) = False          positi : negati =      1.1 : 1.0\n",
            "        contains(blades) = False          positi : negati =      1.1 : 1.0\n",
            "         contains(third) = False          positi : negati =      1.1 : 1.0\n",
            "       contains(seconds) = False          positi : negati =      1.1 : 1.0\n",
            "     contains(advantage) = False          positi : negati =      1.1 : 1.0\n",
            "           contains(got) = False          positi : negati =      1.1 : 1.0\n",
            "          contains(done) = False          positi : negati =      1.1 : 1.0\n",
            "  contains(continuation) = False          positi : negati =      1.1 : 1.0\n",
            "            contains(we) = False          positi : negati =      1.1 : 1.0\n",
            "       contains(period.) = False          positi : negati =      1.1 : 1.0\n",
            "    contains(milestone,) = False          positi : negati =      1.1 : 1.0\n",
            "         contains(human) = False          positi : negati =      1.1 : 1.0\n",
            "    contains(mondaythis) = False          positi : negati =      1.1 : 1.0\n",
            "          contains(you,) = False          positi : negati =      1.1 : 1.0\n",
            "       contains(advance) = False          positi : negati =      1.1 : 1.0\n",
            "         contains(vaasa) = False          positi : negati =      1.1 : 1.0\n",
            "          contains(head) = False          positi : negati =      1.1 : 1.0\n",
            "      contains(training) = False          positi : negati =      1.1 : 1.0\n",
            "         contains(trace) = False          positi : negati =      1.1 : 1.0\n",
            "        contains(before) = False          positi : negati =      1.1 : 1.0\n",
            "        contains(kings!) = False          positi : negati =      1.1 : 1.0\n",
            "          contains(give) = False          positi : negati =      1.1 : 1.0\n",
            "      contains(joukkueh) = False          positi : negati =      1.1 : 1.0\n",
            "            contains(an) = False          positi : negati =      1.1 : 1.0\n",
            "          contains(from) = False          positi : negati =      1.1 : 1.0\n",
            "        contains(kalle!) = False          positi : negati =      1.1 : 1.0\n",
            "      contains(addition) = False          positi : negati =      1.1 : 1.0\n",
            "        contains(played) = False          positi : negati =      1.1 : 1.0\n",
            "         contains(virta) = False          positi : negati =      1.1 : 1.0\n",
            "          contains(tack) = False          positi : negati =      1.1 : 1.0\n",
            "         contains(pekka) = False          positi : negati =      1.1 : 1.0\n",
            "           contains(and) = False          positi : negati =      1.1 : 1.0\n",
            "      contains(increase) = False          positi : negati =      1.1 : 1.0\n",
            "         contains(batch) = False          positi : negati =      1.1 : 1.0\n",
            "        contains(frenzy) = False          positi : negati =      1.1 : 1.0\n",
            "           contains(top) = False          positi : negati =      1.1 : 1.0\n",
            "           contains(are) = False          positi : negati =      1.1 : 1.0\n",
            "         contains(week,) = False          positi : negati =      1.1 : 1.0\n",
            "contains(congratulations) = False          positi : negati =      1.1 : 1.0\n",
            "         contains(thank) = False          positi : negati =      1.1 : 1.0\n",
            "         contains(night) = False          positi : negati =      1.1 : 1.0\n",
            "        contains(skills) = False          positi : negati =      1.1 : 1.0\n",
            "         contains(first) = False          positi : negati =      1.1 : 1.0\n",
            "       contains(winning) = False          positi : negati =      1.1 : 1.0\n",
            "        contains(lucky.) = False          positi : negati =      1.1 : 1.0\n",
            "       contains(welcome) = False          positi : negati =      1.1 : 1.0\n",
            "       contains(furious) = False          positi : negati =      1.1 : 1.0\n",
            "     contains(beginning) = False          positi : negati =      1.1 : 1.0\n",
            "          contains(your) = False          positi : negati =      1.1 : 1.0\n",
            "        contains(friend) = False          positi : negati =      1.1 : 1.0\n",
            "          contains(game) = False          positi : negati =      1.1 : 1.0\n",
            "        contains(behind) = False          positi : negati =      1.1 : 1.0\n",
            "        contains(friday) = False          positi : negati =      1.1 : 1.0\n",
            "      contains(audience) = False          positi : negati =      1.1 : 1.0\n",
            "          contains(over) = False          positi : negati =      1.1 : 1.0\n",
            "      contains(two-goal) = False          positi : negati =      1.1 : 1.0\n",
            "      contains(courtesy) = False          positi : negati =      1.1 : 1.0\n",
            "         contains(7452.) = False          positi : negati =      1.1 : 1.0\n",
            "    contains(successful) = False          positi : negati =      1.1 : 1.0\n",
            "        contains(levels) = False          positi : negati =      1.1 : 1.0\n",
            "    contains(five-match) = False          positi : negati =      1.1 : 1.0\n",
            "         contains(moves) = False          positi : negati =      1.1 : 1.0\n",
            "         contains(once.) = False          positi : negati =      1.1 : 1.0\n",
            "           contains(day) = False          positi : negati =      1.1 : 1.0\n",
            "         contains(happy) = False          positi : negati =      1.1 : 1.0\n",
            "         contains(game.) = False          positi : negati =      1.1 : 1.0\n",
            "         contains(coach) = False          positi : negati =      1.1 : 1.0\n",
            "           contains(end) = False          positi : negati =      1.1 : 1.0\n",
            "          contains(good) = False          positi : negati =      1.1 : 1.0\n",
            "       contains(magical) = False          positi : negati =      1.1 : 1.0\n",
            "             contains(a) = False          negati : positi =      1.1 : 1.0\n",
            "           contains(the) = True           negati : positi =      1.1 : 1.0\n",
            "           contains(the) = False          positi : negati =      1.1 : 1.0\n",
            "         contains(ilves) = False          positi : negati =      1.1 : 1.0\n",
            "          contains(only) = False          positi : negati =      1.1 : 1.0\n",
            "         contains(great) = False          positi : negati =      1.1 : 1.0\n",
            "         contains(today) = False          positi : negati =      1.1 : 1.0\n",
            "          contains(have) = False          positi : negati =      1.1 : 1.0\n",
            "       contains(evening) = False          positi : negati =      1.1 : 1.0\n",
            "   contains(installment) = False          positi : negati =      1.1 : 1.0\n",
            "       contains(players) = False          positi : negati =      1.1 : 1.0\n",
            "     contains(progress!) = False          negati : positi =      1.0 : 1.0\n",
            "None\n"
          ],
          "name": "stdout"
        }
      ]
    },
    {
      "cell_type": "code",
      "metadata": {
        "id": "NHqVmK0pxk3d",
        "colab_type": "code",
        "outputId": "7cd9a948-b6d8-4e57-90c5-48dff64a0a20",
        "colab": {
          "base_uri": "https://localhost:8080/",
          "height": 33
        }
      },
      "source": [
        "tweet = 'this week our team would have a great situation'\n",
        "print(classifier.classify(extract_features(tweet.split())))\n"
      ],
      "execution_count": 0,
      "outputs": [
        {
          "output_type": "stream",
          "text": [
            "positive\n"
          ],
          "name": "stdout"
        }
      ]
    },
    {
      "cell_type": "code",
      "metadata": {
        "id": "UbVe4FQzy-WS",
        "colab_type": "code",
        "colab": {}
      },
      "source": [
        ""
      ],
      "execution_count": 0,
      "outputs": []
    }
  ]
}